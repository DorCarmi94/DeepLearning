{
  "nbformat": 4,
  "nbformat_minor": 0,
  "metadata": {
    "colab": {
      "name": "Deep learning assignment 2-synthetic.ipynb",
      "provenance": [],
      "collapsed_sections": []
    },
    "kernelspec": {
      "name": "python3",
      "display_name": "Python 3"
    },
    "language_info": {
      "name": "python"
    },
    "accelerator": "GPU"
  },
  "cells": [
    {
      "cell_type": "markdown",
      "source": [
        "# Part 3.1: The synthetic data"
      ],
      "metadata": {
        "id": "dsIoS5EL4qSi"
      }
    },
    {
      "cell_type": "code",
      "execution_count": null,
      "metadata": {
        "id": "8yWjALUIPCil"
      },
      "outputs": [],
      "source": [
        "import torch"
      ]
    },
    {
      "cell_type": "code",
      "source": [
        "import numpy as np\n",
        "import pandas as pd\n",
        "from sklearn.model_selection import train_test_split"
      ],
      "metadata": {
        "id": "gyEOW_r1Qfdi"
      },
      "execution_count": null,
      "outputs": []
    },
    {
      "cell_type": "code",
      "source": [
        "torch.cuda.is_available()"
      ],
      "metadata": {
        "colab": {
          "base_uri": "https://localhost:8080/"
        },
        "id": "Geyudq1PPH1V",
        "outputId": "76ae2317-4559-4079-85a7-0b713150d10b"
      },
      "execution_count": null,
      "outputs": [
        {
          "output_type": "execute_result",
          "data": {
            "text/plain": [
              "True"
            ]
          },
          "metadata": {},
          "execution_count": 3
        }
      ]
    },
    {
      "cell_type": "markdown",
      "source": [
        "Create the synthetic data"
      ],
      "metadata": {
        "id": "wnluzk4s353z"
      }
    },
    {
      "cell_type": "code",
      "source": [
        "randrand=np.random.uniform(low=0.0, high=1.0, size=(10000,50))\n",
        "newRandRand=[]\n",
        "for i in range(50):\n",
        "  seq=randrand[i,:]\n",
        "  idx=np.random.randint(0,4)\n",
        "  for j in range(idx-1,idx+1):\n",
        "    seq[j]=seq[j]*0.0001\n",
        "    newRandRand.append(seq)\n",
        "newRandRand\n",
        "\n",
        "# plt.figure()\n",
        "# plt.title(\"Signal\")\n",
        "# plt.plot(newRandRand[0],label=\"Signal batch\")\n",
        "# plt.show()\n",
        "\n",
        "r = pd.DataFrame(newRandRand, columns=[f\"x_{i:02}\" for i in range(50)])\n",
        "train_set, test_set = train_test_split(r, test_size=0.4)\n",
        "val_set, test_set = train_test_split(test_set, test_size=0.5)\n",
        "val_set.to_csv(\"drive/MyDrive/Colab Notebooks/toy_val.csv\", index=False)\n",
        "test_set.to_csv(\"drive/MyDrive/Colab Notebooks/toy_test.csv\", index=False)\n",
        "train_set.to_csv(\"drive/MyDrive/Colab Notebooks/toy_train.csv\", index=False)"
      ],
      "metadata": {
        "id": "oXtkIhKAP75b"
      },
      "execution_count": null,
      "outputs": []
    },
    {
      "cell_type": "markdown",
      "source": [
        "Create the model"
      ],
      "metadata": {
        "id": "xk7g42aG4mqp"
      }
    },
    {
      "cell_type": "code",
      "source": [
        "from torch.utils.data import Dataset, DataLoader\n",
        "import torch.nn as nn\n",
        "import torch.optim as optim\n",
        "from matplotlib import pyplot as plt\n",
        "import math\n",
        "import random"
      ],
      "metadata": {
        "id": "dGgPeN2iQ0u7"
      },
      "execution_count": null,
      "outputs": []
    },
    {
      "cell_type": "code",
      "source": [
        "class encoder_decoder_toyModel(nn.Module):\n",
        "    def __init__(self, hidden_n,seq_size):\n",
        "        super().__init__()\n",
        "        self.encoder=nn.LSTM(1,hidden_n,batch_first=True)\n",
        "        self.decoder=nn.LSTM(hidden_n,hidden_n,batch_first=True)\n",
        "        self.linear=nn.Linear(hidden_n,1)\n",
        "        self.seq_size=seq_size\n",
        "        self.hidden_n=hidden_n\n",
        "\n",
        "    def forward(self,x):\n",
        "        _,(all_hidden,_)=self.encoder(x)\n",
        "        last_hidden=all_hidden.view(-1,1,self.hidden_n)\n",
        "        last_h_rep=last_hidden.repeat(1,self.seq_size,1)\n",
        "        Y_out,_ = self.decoder(last_h_rep)\n",
        "        outFromLinear=self.linear(Y_out)\n",
        "        return outFromLinear\n"
      ],
      "metadata": {
        "id": "mXjPwrw_7R5u"
      },
      "execution_count": null,
      "outputs": []
    },
    {
      "cell_type": "code",
      "source": [
        "class train_toyModel():\n",
        "    def __init__(self,\n",
        "                 data,validationData,\n",
        "                 sequenceLength,\n",
        "                 batchSize,hiddenSize,learningRate,gradientClipping,gradientClippingValue,numberOfIterations,\n",
        "                 sgd_string=\"Adam\",MSE_string=\"MSE\"):\n",
        "        self.bsz=batchSize\n",
        "        self.hiddenSize=hiddenSize\n",
        "        self.lr=learningRate\n",
        "        self.bsz=batchSize\n",
        "        self.clip=gradientClipping\n",
        "        self.clipVal=gradientClippingValue\n",
        "        self.iters=numberOfIterations\n",
        "\n",
        "        self.ae=encoder_decoder_toyModel(self.hiddenSize,sequenceLength)\n",
        "\n",
        "        if(sgd_string==\"sgd\"):\n",
        "            self.optim=optim.SGD(self.ae.parameters(),self.lr)\n",
        "        else:\n",
        "            self.optim=optim.Adam(self.ae.parameters(),self.lr)\n",
        "\n",
        "        self.x_data=data\n",
        "        self.validationData=validationData\n",
        "        self.MES_string=MSE_string\n",
        "\n",
        "    def train(self):\n",
        "        trainingLosses=[]\n",
        "        validationLosses=[]\n",
        "\n",
        "        GPU_or_CPU=torch.device(\"cuda\" if torch.cuda.is_available() else \"cpu\")\n",
        "        self.GPU_or_CPU=GPU_or_CPU\n",
        "        if(GPU_or_CPU!=\"cpu\"):\n",
        "          print(f\"working on GPU:{GPU_or_CPU}\")\n",
        "        self.ae.to(GPU_or_CPU)\n",
        "        for i in range(self.iters):\n",
        "            curr_loss=0\n",
        "            for batch in self.x_data:\n",
        "                self.optim.zero_grad()\n",
        "                currBatch=batch.to(GPU_or_CPU)\n",
        "                aeOut=self.ae.forward(currBatch)\n",
        "                calc_andGetLoss=0\n",
        "                if(self.MES_string==\"MSE\"):\n",
        "                    calc_andGetLoss=nn.MSELoss().forward(aeOut,currBatch)\n",
        "                calc_andGetLoss.backward() # calculate gradients\n",
        "                self.optim.step()\n",
        "                curr_loss+=calc_andGetLoss.item()\n",
        "            avgLossForIter=curr_loss/len(self.x_data)\n",
        "            trainingLosses.append(avgLossForIter)\n",
        "            print(f\"Iteration={i+1}, TrainLoss={avgLossForIter}\")\n",
        "        return trainingLosses,validationLosses\n",
        "    \n",
        "    def inference(self,data):\n",
        "      dataOnDevice=data.to(self.GPU_or_CPU).unsqueeze(0)\n",
        "      output=self.ae.forward(dataOnDevice)\n",
        "      return output"
      ],
      "metadata": {
        "id": "p_BAXHb_46GZ"
      },
      "execution_count": null,
      "outputs": []
    },
    {
      "cell_type": "markdown",
      "source": [
        "Running on default parameters"
      ],
      "metadata": {
        "id": "ij5Cgzev5K_j"
      }
    },
    {
      "cell_type": "code",
      "source": [
        "#define the parameters\n",
        "p_BatchSize=64\n",
        "p_HiddenStateSize=100\n",
        "p_LearningRate=0.001\n",
        "p_GradienClipping=False\n",
        "p_GradientClippingValue=0.1\n",
        "p_NumberOfIterations=200\n",
        "p_SequenceLenght=50"
      ],
      "metadata": {
        "id": "SUsaU2IE5JeB"
      },
      "execution_count": null,
      "outputs": []
    },
    {
      "cell_type": "markdown",
      "source": [
        "Load the data"
      ],
      "metadata": {
        "id": "9xb3zvE1-I9U"
      }
    },
    {
      "cell_type": "code",
      "source": [
        "class LoadedData(Dataset):\n",
        "  def __init__(self,tensorDataSet):\n",
        "    self.data=np.expand_dims(tensorDataSet,2).astype(np.float32)\n",
        "  def __getitem__(self,idx):\n",
        "    return self.data[idx]\n",
        "  def __len__(self):\n",
        "    return len(self.data)"
      ],
      "metadata": {
        "id": "d1-i9fEE_GDM"
      },
      "execution_count": null,
      "outputs": []
    },
    {
      "cell_type": "code",
      "source": [
        "def load_data(path,bsz,shouldShuffle):\n",
        "    tensorDataSet=pd.read_csv(path)\n",
        "    dataObject=LoadedData(tensorDataSet)\n",
        "    data_l=DataLoader(dataObject,batch_size=bsz,shuffle=shouldShuffle)\n",
        "    return data_l"
      ],
      "metadata": {
        "id": "rjuVob-m-Ktj"
      },
      "execution_count": null,
      "outputs": []
    },
    {
      "cell_type": "code",
      "source": [
        "x_data=load_data(\"drive/MyDrive/Colab Notebooks/toy_train.csv\",p_BatchSize,True)\n",
        "val_data=load_data(\"drive/MyDrive/Colab Notebooks/toy_val.csv\",p_BatchSize,False)\n",
        "test_data=load_data(\"drive/MyDrive/Colab Notebooks/toy_test.csv\",p_BatchSize,False)"
      ],
      "metadata": {
        "id": "MfgznABV_223"
      },
      "execution_count": null,
      "outputs": []
    },
    {
      "cell_type": "markdown",
      "source": [
        "Show some of the signals"
      ],
      "metadata": {
        "id": "SFHLCU_EFfIF"
      }
    },
    {
      "cell_type": "code",
      "source": [
        "plt.figure()\n",
        "plt.title(\"Signal\")\n",
        "x_print=random.choice(next(iter(x_data)))\n",
        "signal=[]\n",
        "for i in range(p_SequenceLenght):\n",
        "  signal.append(x_print.numpy()[i])\n",
        "plt.plot(signal,label=\"Signal batch\")\n",
        "plt.show()"
      ],
      "metadata": {
        "colab": {
          "base_uri": "https://localhost:8080/",
          "height": 281
        },
        "id": "WiTgHG93FiYW",
        "outputId": "4351833e-9522-45ac-f87e-8f833503579e"
      },
      "execution_count": null,
      "outputs": [
        {
          "output_type": "display_data",
          "data": {
            "image/png": "[encoded data removed]",
            "text/plain": [
              "<Figure size 432x288 with 1 Axes>"
            ]
          },
          "metadata": {
            "needs_background": "light"
          }
        }
      ]
    },
    {
      "cell_type": "markdown",
      "source": [
        "Running the model to reconstruct the synthetic data"
      ],
      "metadata": {
        "id": "Id-hXNaj6Gqm"
      }
    },
    {
      "cell_type": "code",
      "source": [
        "theTrainer=train_toyModel(x_data,val_data,p_SequenceLenght,p_BatchSize,p_HiddenStateSize,p_LearningRate,p_GradienClipping,p_GradientClippingValue,p_NumberOfIterations)\n",
        "trainLosses,validationLosses=theTrainer.train()"
      ],
      "metadata": {
        "colab": {
          "base_uri": "https://localhost:8080/"
        },
        "id": "dI6NnWxF6FAg",
        "outputId": "37b32361-e28e-4a0c-e8d3-956060524200"
      },
      "execution_count": null,
      "outputs": [
        {
          "output_type": "stream",
          "name": "stdout",
          "text": [
            "working on GPU:cuda\n",
            "Iteration=1, TrainLoss=0.09538509221153056\n",
            "Iteration=2, TrainLoss=0.08220720465512986\n",
            "Iteration=3, TrainLoss=0.0815086342552875\n",
            "Iteration=4, TrainLoss=0.08150462156280558\n",
            "Iteration=5, TrainLoss=0.08150484143419469\n",
            "Iteration=6, TrainLoss=0.0815040889255544\n",
            "Iteration=7, TrainLoss=0.08149731531739235\n",
            "Iteration=8, TrainLoss=0.08150517425321518\n",
            "Iteration=9, TrainLoss=0.08149978629452118\n",
            "Iteration=10, TrainLoss=0.08149226731125345\n",
            "Iteration=11, TrainLoss=0.0814966118716179\n",
            "Iteration=12, TrainLoss=0.08150155763042734\n",
            "Iteration=13, TrainLoss=0.08149694326393148\n",
            "Iteration=14, TrainLoss=0.08149091439678315\n",
            "Iteration=15, TrainLoss=0.08148754102752563\n",
            "Iteration=16, TrainLoss=0.08150105780743538\n",
            "Iteration=17, TrainLoss=0.08149949072840366\n",
            "Iteration=18, TrainLoss=0.08149587331300086\n",
            "Iteration=19, TrainLoss=0.0814994548229461\n",
            "Iteration=20, TrainLoss=0.08150773836260146\n",
            "Iteration=21, TrainLoss=0.08149180260110409\n",
            "Iteration=22, TrainLoss=0.08149269548185328\n",
            "Iteration=23, TrainLoss=0.08149208088821554\n",
            "Iteration=24, TrainLoss=0.08149942573397717\n",
            "Iteration=25, TrainLoss=0.08149523731875927\n",
            "Iteration=26, TrainLoss=0.08148533835055981\n",
            "Iteration=27, TrainLoss=0.08154625675462662\n",
            "Iteration=28, TrainLoss=0.08149012709234624\n",
            "Iteration=29, TrainLoss=0.0814927727618116\n",
            "Iteration=30, TrainLoss=0.08148424176776663\n",
            "Iteration=31, TrainLoss=0.08148887396809902\n",
            "Iteration=32, TrainLoss=0.08152284980454344\n",
            "Iteration=33, TrainLoss=0.08147529132188634\n",
            "Iteration=34, TrainLoss=0.0815086176896349\n",
            "Iteration=35, TrainLoss=0.08149902261000999\n",
            "Iteration=36, TrainLoss=0.08148798291036423\n",
            "Iteration=37, TrainLoss=0.08148781289445593\n",
            "Iteration=38, TrainLoss=0.08148671805541566\n",
            "Iteration=39, TrainLoss=0.08147947323766161\n",
            "Iteration=40, TrainLoss=0.08144918329855229\n",
            "Iteration=41, TrainLoss=0.08143174569023416\n",
            "Iteration=42, TrainLoss=0.08138663139432034\n",
            "Iteration=43, TrainLoss=0.08110083956667717\n",
            "Iteration=44, TrainLoss=0.08063212568138509\n",
            "Iteration=45, TrainLoss=0.07997326576646338\n",
            "Iteration=46, TrainLoss=0.07952981442213058\n",
            "Iteration=47, TrainLoss=0.07856943704029347\n",
            "Iteration=48, TrainLoss=0.07827750387343954\n",
            "Iteration=49, TrainLoss=0.0778992365490883\n",
            "Iteration=50, TrainLoss=0.07671848819293875\n",
            "Iteration=51, TrainLoss=0.07573354585056609\n",
            "Iteration=52, TrainLoss=0.07488631338198135\n",
            "Iteration=53, TrainLoss=0.0743965856096846\n",
            "Iteration=54, TrainLoss=0.07351386642202418\n",
            "Iteration=55, TrainLoss=0.07279991802382976\n",
            "Iteration=56, TrainLoss=0.07190666569674269\n",
            "Iteration=57, TrainLoss=0.07095522988349834\n",
            "Iteration=58, TrainLoss=0.06958449861787736\n",
            "Iteration=59, TrainLoss=0.06869602631381218\n",
            "Iteration=60, TrainLoss=0.06863366400307798\n",
            "Iteration=61, TrainLoss=0.06743442306810236\n",
            "Iteration=62, TrainLoss=0.066802183681346\n",
            "Iteration=63, TrainLoss=0.0656921452585053\n",
            "Iteration=64, TrainLoss=0.06546226821522763\n",
            "Iteration=65, TrainLoss=0.06458610862969084\n",
            "Iteration=66, TrainLoss=0.06374071110436257\n",
            "Iteration=67, TrainLoss=0.06314592788669657\n",
            "Iteration=68, TrainLoss=0.062397237391547955\n",
            "Iteration=69, TrainLoss=0.061606487417791754\n",
            "Iteration=70, TrainLoss=0.06099379688818404\n",
            "Iteration=71, TrainLoss=0.06045434164240005\n",
            "Iteration=72, TrainLoss=0.060021603995181146\n",
            "Iteration=73, TrainLoss=0.05946842446289164\n",
            "Iteration=74, TrainLoss=0.05876037708305298\n",
            "Iteration=75, TrainLoss=0.058576415035318824\n",
            "Iteration=76, TrainLoss=0.058379782522295386\n",
            "Iteration=77, TrainLoss=0.05771672904015856\n",
            "Iteration=78, TrainLoss=0.05722077400918971\n",
            "Iteration=79, TrainLoss=0.05705727684371015\n",
            "Iteration=80, TrainLoss=0.056567278670820786\n",
            "Iteration=81, TrainLoss=0.056310559008666806\n",
            "Iteration=82, TrainLoss=0.05567031908542552\n",
            "Iteration=83, TrainLoss=0.055463295945144715\n",
            "Iteration=84, TrainLoss=0.05491648483625118\n",
            "Iteration=85, TrainLoss=0.0542464729081443\n",
            "Iteration=86, TrainLoss=0.05398085206112963\n",
            "Iteration=87, TrainLoss=0.0537648303236099\n",
            "Iteration=88, TrainLoss=0.05310828524067047\n",
            "Iteration=89, TrainLoss=0.05255811304805127\n",
            "Iteration=90, TrainLoss=0.05219152003051119\n",
            "Iteration=91, TrainLoss=0.052022897539303656\n",
            "Iteration=92, TrainLoss=0.05143373669620524\n",
            "Iteration=93, TrainLoss=0.05089417028617352\n",
            "Iteration=94, TrainLoss=0.051113757483185605\n",
            "Iteration=95, TrainLoss=0.05048369917463749\n",
            "Iteration=96, TrainLoss=0.05012696161073573\n",
            "Iteration=97, TrainLoss=0.04965150130397462\n",
            "Iteration=98, TrainLoss=0.04934210021128046\n",
            "Iteration=99, TrainLoss=0.048884479883820456\n",
            "Iteration=100, TrainLoss=0.04871596911169113\n",
            "Iteration=101, TrainLoss=0.04834649355170575\n",
            "Iteration=102, TrainLoss=0.04826899233492131\n",
            "Iteration=103, TrainLoss=0.04770530708768266\n",
            "Iteration=104, TrainLoss=0.04736391613458065\n",
            "Iteration=105, TrainLoss=0.047208154851451835\n",
            "Iteration=106, TrainLoss=0.04753742164912376\n",
            "Iteration=107, TrainLoss=0.04630532385186946\n",
            "Iteration=108, TrainLoss=0.04624283123523631\n",
            "Iteration=109, TrainLoss=0.04568057669762601\n",
            "Iteration=110, TrainLoss=0.045493718514100036\n",
            "Iteration=111, TrainLoss=0.04534767881194328\n",
            "Iteration=112, TrainLoss=0.04437167098389027\n",
            "Iteration=113, TrainLoss=0.044031810292855224\n",
            "Iteration=114, TrainLoss=0.044269503153702046\n",
            "Iteration=115, TrainLoss=0.043454688280186754\n",
            "Iteration=116, TrainLoss=0.042831843679255625\n",
            "Iteration=117, TrainLoss=0.04253396974440585\n",
            "Iteration=118, TrainLoss=0.042235489617636866\n",
            "Iteration=119, TrainLoss=0.042045122329541974\n",
            "Iteration=120, TrainLoss=0.04240646312369945\n",
            "Iteration=121, TrainLoss=0.041468771214180807\n",
            "Iteration=122, TrainLoss=0.040988927786337566\n",
            "Iteration=123, TrainLoss=0.04072577847128219\n",
            "Iteration=124, TrainLoss=0.04090057127177715\n",
            "Iteration=125, TrainLoss=0.04059811190087745\n",
            "Iteration=126, TrainLoss=0.040192552188292464\n",
            "Iteration=127, TrainLoss=0.03950235370467318\n",
            "Iteration=128, TrainLoss=0.03930477809874301\n",
            "Iteration=129, TrainLoss=0.039214742270872946\n",
            "Iteration=130, TrainLoss=0.03899362172059556\n",
            "Iteration=131, TrainLoss=0.03829675615626447\n",
            "Iteration=132, TrainLoss=0.03788590391582631\n",
            "Iteration=133, TrainLoss=0.037604817446876077\n",
            "Iteration=134, TrainLoss=0.0375464593872745\n",
            "Iteration=135, TrainLoss=0.03748785343734508\n",
            "Iteration=136, TrainLoss=0.037169959792431366\n",
            "Iteration=137, TrainLoss=0.037160125343089406\n",
            "Iteration=138, TrainLoss=0.036793311304868535\n",
            "Iteration=139, TrainLoss=0.0363179679088136\n",
            "Iteration=140, TrainLoss=0.03598358513827019\n",
            "Iteration=141, TrainLoss=0.03577314103220371\n",
            "Iteration=142, TrainLoss=0.03579864924416897\n",
            "Iteration=143, TrainLoss=0.035627971423116134\n",
            "Iteration=144, TrainLoss=0.03550309973194244\n",
            "Iteration=145, TrainLoss=0.03536736378644375\n",
            "Iteration=146, TrainLoss=0.035418842859724735\n",
            "Iteration=147, TrainLoss=0.03459224544782588\n",
            "Iteration=148, TrainLoss=0.03429911856321578\n",
            "Iteration=149, TrainLoss=0.03422542134339505\n",
            "Iteration=150, TrainLoss=0.03405295677007513\n",
            "Iteration=151, TrainLoss=0.03384886456138276\n",
            "Iteration=152, TrainLoss=0.03411480007653541\n",
            "Iteration=153, TrainLoss=0.03388835969281957\n",
            "Iteration=154, TrainLoss=0.033616113595347455\n",
            "Iteration=155, TrainLoss=0.03306687266585675\n",
            "Iteration=156, TrainLoss=0.03260209118115141\n",
            "Iteration=157, TrainLoss=0.0328549695934387\n",
            "Iteration=158, TrainLoss=0.03222102543061718\n",
            "Iteration=159, TrainLoss=0.03244533633535847\n",
            "Iteration=160, TrainLoss=0.031914516094517204\n",
            "Iteration=161, TrainLoss=0.031715261888630844\n",
            "Iteration=162, TrainLoss=0.031121135768579677\n",
            "Iteration=163, TrainLoss=0.031070116392158446\n",
            "Iteration=164, TrainLoss=0.030888500345989743\n",
            "Iteration=165, TrainLoss=0.030824375616267642\n",
            "Iteration=166, TrainLoss=0.030665554859219714\n",
            "Iteration=167, TrainLoss=0.03055377039027975\n",
            "Iteration=168, TrainLoss=0.030530458217130064\n",
            "Iteration=169, TrainLoss=0.030518247785561895\n",
            "Iteration=170, TrainLoss=0.030366655894892014\n",
            "Iteration=171, TrainLoss=0.029982618135499194\n",
            "Iteration=172, TrainLoss=0.02941139460481862\n",
            "Iteration=173, TrainLoss=0.029261874570015896\n",
            "Iteration=174, TrainLoss=0.02911750138043723\n",
            "Iteration=175, TrainLoss=0.02899708036095538\n",
            "Iteration=176, TrainLoss=0.02887783153973361\n",
            "Iteration=177, TrainLoss=0.02867242846479441\n",
            "Iteration=178, TrainLoss=0.02824759396149757\n",
            "Iteration=179, TrainLoss=0.02797110495652924\n",
            "Iteration=180, TrainLoss=0.027735108113352287\n",
            "Iteration=181, TrainLoss=0.0275405245892545\n",
            "Iteration=182, TrainLoss=0.027324938472915204\n",
            "Iteration=183, TrainLoss=0.02735497673696026\n",
            "Iteration=184, TrainLoss=0.027299547627409722\n",
            "Iteration=185, TrainLoss=0.02706811000454299\n",
            "Iteration=186, TrainLoss=0.026857315879711446\n",
            "Iteration=187, TrainLoss=0.02625231349721868\n",
            "Iteration=188, TrainLoss=0.025938369076144187\n",
            "Iteration=189, TrainLoss=0.025996135012742054\n",
            "Iteration=190, TrainLoss=0.025661619697162446\n",
            "Iteration=191, TrainLoss=0.02566147272653402\n",
            "Iteration=192, TrainLoss=0.025567551024575183\n",
            "Iteration=193, TrainLoss=0.025605176555666517\n",
            "Iteration=194, TrainLoss=0.025364652394931367\n",
            "Iteration=195, TrainLoss=0.02489150079720198\n",
            "Iteration=196, TrainLoss=0.02434215090297004\n",
            "Iteration=197, TrainLoss=0.024197158780186735\n",
            "Iteration=198, TrainLoss=0.024061666286372123\n",
            "Iteration=199, TrainLoss=0.02410063133674099\n",
            "Iteration=200, TrainLoss=0.024001649660157397\n"
          ]
        }
      ]
    },
    {
      "cell_type": "code",
      "source": [
        "plt.figure()\n",
        "plt.title(\"Losses for train and validation\")\n",
        "plt.plot(trainLosses,label=\"Train Losses\")\n",
        "plt.plot(validationLosses,label=\"Validation Losses\")\n",
        "plt.xlabel(\"Iteraion\")\n",
        "plt.ylabel(\"Loss\")\n",
        "plt.legend()\n",
        "plt.show()"
      ],
      "metadata": {
        "colab": {
          "base_uri": "https://localhost:8080/",
          "height": 295
        },
        "id": "CPBlCP87CK_h",
        "outputId": "385b534d-a5f7-4d9d-a312-16c9dc566279"
      },
      "execution_count": null,
      "outputs": [
        {
          "output_type": "display_data",
          "data": {
            "image/png": "[encoded data removed]",
            "text/plain": [
              "<Figure size 432x288 with 1 Axes>"
            ]
          },
          "metadata": {
            "needs_background": "light"
          }
        }
      ]
    },
    {
      "cell_type": "markdown",
      "source": [
        "Reconstruct from validation data"
      ],
      "metadata": {
        "id": "-E59htE1H9Q6"
      }
    },
    {
      "cell_type": "code",
      "source": [
        "plt.figure()\n",
        "plt.title(\"Original Signal vs Reconstructed Signal\")\n",
        "original_val_batch=random.choice(next(iter(val_data)))\n",
        "signal=[]\n",
        "for i in range(p_SequenceLenght):\n",
        "  signal.append(original_val_batch.numpy()[i])\n",
        "plt.plot(signal,label=\"Input\")\n",
        "outputFromModel=theTrainer.inference(original_val_batch)\n",
        "output = outputFromModel.cpu().detach().numpy().squeeze(0)\n",
        "plt.plot(output, label=\"Output\")\n",
        "plt.legend()\n",
        "plt.show()"
      ],
      "metadata": {
        "colab": {
          "base_uri": "https://localhost:8080/",
          "height": 281
        },
        "id": "HfmGQE4KH8eT",
        "outputId": "b9916071-7f47-4631-b457-5145be994d1b"
      },
      "execution_count": null,
      "outputs": [
        {
          "output_type": "display_data",
          "data": {
            "image/png": "[encoded data removed]",
            "text/plain": [
              "<Figure size 432x288 with 1 Axes>"
            ]
          },
          "metadata": {
            "needs_background": "light"
          }
        }
      ]
    }
  ]
}